{
 "cells": [
  {
   "cell_type": "code",
   "execution_count": 1,
   "metadata": {},
   "outputs": [],
   "source": [
    "import nltk\n",
    "import string\n",
    "import re\n",
    "from nltk.corpus import stopwords\n",
    "from nltk.stem import PorterStemmer\n",
    "from nltk import word_tokenize\n",
    "import pandas as pd\n",
    "from sklearn.feature_extraction.text import CountVectorizer\n",
    "from sklearn.decomposition import PCA\n",
    "from sklearn.linear_model import LogisticRegression"
   ]
  },
  {
   "cell_type": "code",
   "execution_count": 2,
   "metadata": {},
   "outputs": [],
   "source": [
    "df=pd.read_csv('F://hotel data set//Restaurant_Reviews.txt',delimiter='\\t')\n",
    "punc=string.punctuation\n",
    "stop_words=stopwords.words('english')\n",
    "stop_words.remove('not')\n",
    "ps=PorterStemmer()\n",
    "cv=CountVectorizer(binary=True)\n",
    "pca=PCA(.99)\n",
    "log=LogisticRegression()"
   ]
  },
  {
   "cell_type": "code",
   "execution_count": 3,
   "metadata": {},
   "outputs": [],
   "source": [
    "def clean_text(msg):\n",
    "    msg=msg.lower()\n",
    "    msg=re.sub(r'[{punc}]','',msg)\n",
    "    words=word_tokenize(msg)\n",
    "    new_words=[]\n",
    "    for w in words:\n",
    "        if(w not in stop_words):\n",
    "            new_words.append(w)\n",
    "    \n",
    "    after_stem_words=[]\n",
    "    for w in new_words:\n",
    "        after_stem_words.append(ps.stem(w))\n",
    "    clean_msg=' '.join(after_stem_words)\n",
    "    return clean_msg"
   ]
  },
  {
   "cell_type": "code",
   "execution_count": 4,
   "metadata": {},
   "outputs": [],
   "source": [
    "import sys\n",
    "stdout = sys.stdout\n",
    "reload(sys)\n",
    "sys.setdefaultencoding('utf-8')\n",
    "df['Review']=df.Review.apply(clean_text)\n",
    "sys.stdout=stdout\n",
    "\n"
   ]
  },
  {
   "cell_type": "code",
   "execution_count": null,
   "metadata": {},
   "outputs": [
    {
     "name": "stdout",
     "output_type": "stream",
     "text": [
      "model trained....\n"
     ]
    }
   ],
   "source": [
    "X=cv.fit_transform(df.Review).toarray()\n",
    "new_X=pca.fit_transform(X)\n",
    "y=df.iloc[:,-1].values\n",
    "log.fit(new_X,y)\n",
    "print('model trained....')\n",
    "msg=input('enter review')\n",
    "msg=clean_text(msg)\n",
    "print(msg)\n",
    "test_x=cv.transform([msg]).toarray()\n",
    "test_x=pca.transform(test_x)\n",
    "print(test_x)"
   ]
  },
  {
   "cell_type": "code",
   "execution_count": null,
   "metadata": {},
   "outputs": [],
   "source": [
    "pred=log.predict(test_x)\n",
    "if(pred[0]==0):\n",
    "    print('not like')\n",
    "if(pred[0]==1):\n",
    "    print('like')\n"
   ]
  },
  {
   "cell_type": "code",
   "execution_count": null,
   "metadata": {},
   "outputs": [],
   "source": []
  }
 ],
 "metadata": {
  "kernelspec": {
   "display_name": "Python 2",
   "language": "python",
   "name": "python2"
  },
  "language_info": {
   "codemirror_mode": {
    "name": "ipython",
    "version": 2
   },
   "file_extension": ".py",
   "mimetype": "text/x-python",
   "name": "python",
   "nbconvert_exporter": "python",
   "pygments_lexer": "ipython2",
   "version": "2.7.16"
  }
 },
 "nbformat": 4,
 "nbformat_minor": 2
}
